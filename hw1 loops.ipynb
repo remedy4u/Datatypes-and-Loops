{
 "cells": [
  {
   "cell_type": "code",
   "execution_count": 30,
   "metadata": {},
   "outputs": [
    {
     "name": "stdout",
     "output_type": "stream",
     "text": [
      "power\n",
      "w\n"
     ]
    }
   ],
   "source": [
    "#Задание 1\n",
    "\n",
    "s = input()\n",
    "if len(s) % 2 == 0:\n",
    "        print(s[len(s)//2-1:len(s)//2+1])\n",
    "else:\n",
    "        print(s[len(s)//2:len(s)//2+1])"
   ]
  },
  {
   "cell_type": "code",
   "execution_count": 32,
   "metadata": {},
   "outputs": [
    {
     "name": "stdout",
     "output_type": "stream",
     "text": [
      "6\n",
      "8\n",
      "99\n",
      "0\n",
      "113\n"
     ]
    }
   ],
   "source": [
    "#Задание 2\n",
    "\n",
    "a = int(input())\n",
    "sum = 0\n",
    "while a != 0:\n",
    "    sum += a\n",
    "    a = int(input())\n",
    " \n",
    "print(sum)"
   ]
  },
  {
   "cell_type": "code",
   "execution_count": 78,
   "metadata": {},
   "outputs": [
    {
     "name": "stdout",
     "output_type": "stream",
     "text": [
      "Perfect match: \n",
      "Alex & Emma\n",
      "Arthur & Kate\n",
      "John & Kira\n",
      "Michael & Liza\n",
      "Peter & Trisha\n",
      "Result:\n",
      "Someone could be a lonely looser!\n"
     ]
    }
   ],
   "source": [
    "# Задание 3\n",
    "boys = ['Peter' , 'Alex' , 'John' , 'Arthur' , 'Richard' , 'Michael']\n",
    "girls = ['Kate', 'Liza', 'Kira', 'Emma', 'Trisha']\n",
    "bs = sorted(boys)\n",
    "gs = sorted(girls)\n",
    "bg = zip(bs, gs)\n",
    "list(bg)\n",
    "print('Perfect match: ')\n",
    "for name1, name2 in zip(bs, gs):\n",
    "    print(f'{name1} &', name2)\n",
    "print('Result:')\n",
    "print('Someone could be a lonely looser!')\n",
    "\n",
    "      "
   ]
  },
  {
   "cell_type": "code",
   "execution_count": null,
   "metadata": {},
   "outputs": [],
   "source": []
  },
  {
   "cell_type": "code",
   "execution_count": null,
   "metadata": {},
   "outputs": [],
   "source": []
  }
 ],
 "metadata": {
  "kernelspec": {
   "display_name": "Python 3",
   "language": "python",
   "name": "python3"
  },
  "language_info": {
   "codemirror_mode": {
    "name": "ipython",
    "version": 3
   },
   "file_extension": ".py",
   "mimetype": "text/x-python",
   "name": "python",
   "nbconvert_exporter": "python",
   "pygments_lexer": "ipython3",
   "version": "3.8.3"
  }
 },
 "nbformat": 4,
 "nbformat_minor": 4
}
